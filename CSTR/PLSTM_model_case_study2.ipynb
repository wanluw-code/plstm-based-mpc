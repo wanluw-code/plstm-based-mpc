{
 "cells": [
  {
   "cell_type": "code",
   "execution_count": 1,
   "metadata": {},
   "outputs": [],
   "source": [
    "import numpy as np\n",
    "import matplotlib.pyplot as plt\n",
    "from sklearn import preprocessing\n",
    "from sklearn.model_selection import train_test_split\n",
    "from sklearn.metrics import mean_absolute_percentage_error\n",
    "from sklearn.preprocessing import StandardScaler\n",
    "import random"
   ]
  },
  {
   "cell_type": "code",
   "execution_count": 2,
   "metadata": {},
   "outputs": [],
   "source": [
    "import torch\n",
    "import torch.nn as nn\n",
    "import torch.optim as optim\n",
    "\n",
    "from torch.utils.data import TensorDataset, DataLoader\n",
    "import time\n",
    "from torch.optim.lr_scheduler import ReduceLROnPlateau\n",
    "from plstm_cell import PLSTM"
   ]
  },
  {
   "cell_type": "code",
   "execution_count": 3,
   "metadata": {},
   "outputs": [],
   "source": [
    "X_train = np.load('PLSTM_train_input.npy')\n",
    "X_test = np.load('PLSTM_test_input.npy')\n",
    "X_val = np.load('PLSTM_val_input.npy')\n",
    "\n",
    "y_train = np.load('y_train.npy')\n",
    "y_test = np.load('y_test.npy')\n",
    "y_val = np.load('y_val.npy')"
   ]
  },
  {
   "cell_type": "code",
   "execution_count": 4,
   "metadata": {},
   "outputs": [],
   "source": [
    "t_train1 = np.load('PLSTM_t_train_in.npy')\n",
    "t_test1 = np.load('PLSTM_t_test_in.npy')\n",
    "t_val1 = np.load('PLSTM_t_val_in.npy')"
   ]
  },
  {
   "cell_type": "code",
   "execution_count": 5,
   "metadata": {},
   "outputs": [
    {
     "name": "stdout",
     "output_type": "stream",
     "text": [
      "x_train, x_val, x_test shapes: (406453, 100, 6), (135485, 100, 6), (232260, 100, 6)\n",
      "y_train, y_val, y_test shapes: (406453, 2, 2), (135485, 2, 2), (232260, 2, 2)\n"
     ]
    }
   ],
   "source": [
    "print(f'x_train, x_val, x_test shapes: {X_train.shape}, {X_val.shape}, {X_test.shape}')\n",
    "print(f'y_train, y_val, y_test shapes: {y_train.shape}, {y_val.shape}, {y_test.shape}')"
   ]
  },
  {
   "cell_type": "code",
   "execution_count": 6,
   "metadata": {},
   "outputs": [
    {
     "name": "stdout",
     "output_type": "stream",
     "text": [
      "torch.Size([406453, 100])\n"
     ]
    }
   ],
   "source": [
    "# import into torch\n",
    "batch_size = 256\n",
    "\n",
    "train_features = torch.from_numpy(X_train).float()\n",
    "train_targets = torch.from_numpy(y_train).float()\n",
    "val_features = torch.from_numpy(X_val).float()\n",
    "val_targets = torch.from_numpy(y_val).float()\n",
    "test_features = torch.from_numpy(X_test).float()\n",
    "test_targets = torch.from_numpy(y_test).float()\n",
    "\n",
    "t_train1 = torch.from_numpy(t_train1).float()\n",
    "t_val1 = torch.from_numpy(t_val1).float()\n",
    "t_test1 = torch.from_numpy(t_test1).float()\n",
    "print(t_train1.size())"
   ]
  },
  {
   "cell_type": "code",
   "execution_count": 7,
   "metadata": {},
   "outputs": [],
   "source": [
    "train = TensorDataset(train_features, train_targets, t_train1)\n",
    "val = TensorDataset(val_features, val_targets, t_val1)\n",
    "test = TensorDataset(test_features, test_targets, t_test1)\n",
    "\n",
    "train_loader = DataLoader(train, batch_size=batch_size)\n",
    "val_loader = DataLoader(val, batch_size=batch_size)\n",
    "test_loader = DataLoader(test, batch_size=batch_size)"
   ]
  },
  {
   "cell_type": "code",
   "execution_count": 14,
   "metadata": {},
   "outputs": [],
   "source": [
    "class Net(nn.Module):\n",
    "    # constructor\n",
    "    def __init__(self, layers):\n",
    "        super(Net, self).__init__()\n",
    "        # plstm layer\n",
    "        self.input_size = layers[0] \n",
    "        self.hidden_size1 = layers[1]\n",
    "        self.hidden_size2 = layers[2]\n",
    "\n",
    "\n",
    "        # concantenate layer\n",
    "        self.conc = layers[1] + 2\n",
    "\n",
    "        \n",
    "        self.output_size = layers[3]\n",
    "        # hidden layer\n",
    "        self.PLSTM = PLSTM(self.input_size, self.hidden_size1)\n",
    "\n",
    "        self.LSTM  = nn.LSTM(self.conc, self.hidden_size2, batch_first=True)\n",
    "        # output layer\n",
    "        self.output = nn.Linear(self.hidden_size2, self.output_size)\n",
    "\n",
    "    # predict\n",
    "    def forward(self, x, t):\n",
    "        # x is in the shape of (batch size, sequence length, input_variables)\n",
    "        # print(\"x dimensions before slicing:\", x.shape)\n",
    "        state = torch.cat((x[:, :, 0:2], x[:, :, 4:]), dim=2)\n",
    "        # print(\"State dimensions after slicing:\", state.shape)\n",
    "        u = x[:, :, 2:4]\n",
    "        self.hidden_seq, ht, kt = self.PLSTM(state, t)\n",
    "        self.shift= kt[0]\n",
    "        self.period = kt[1]\n",
    "        self.on_mid = kt[2]\n",
    "        self.on_end = kt[3]\n",
    "\n",
    "        plstm_out = (self.hidden_seq)\n",
    "        # print(\"PLSTM output dimensions:\", plstm_out.shape)\n",
    "        # concantenate\n",
    "        combined = torch.cat((plstm_out, u), dim=2)\n",
    "        # print(\"Combined dimensions:\", combined.shape)\n",
    "\n",
    "        lstm_out, _ = self.LSTM(combined)\n",
    "        # print(\"LSTM output dimensions:\", lstm_out.shape)\n",
    "\n",
    "        \n",
    "        out = self.output(lstm_out)\n",
    "\n",
    "        # Extract the last 50 time steps\n",
    "        out = out[:,-2:,:] # shape: [batch size, sequence length, input_variables]\n",
    "\n",
    "\n",
    "\n",
    "        return out"
   ]
  },
  {
   "cell_type": "code",
   "execution_count": 10,
   "metadata": {},
   "outputs": [],
   "source": [
    "def train(model, epochs, optimizer, criterion, trainloader, val_loader):\n",
    "    TRAIN_LOSS = []\n",
    "    VAL_LOSS = []\n",
    "    shift_change = []\n",
    "    period_change = []\n",
    "    on_mid_change = []\n",
    "    on_end_change = []\n",
    "\n",
    "    for epoch in range(epochs):\n",
    "        start_time = time.time()\n",
    "        BATCH_LOSS = []\n",
    "        for x, y, t in trainloader:\n",
    "            optimizer.zero_grad()\n",
    "            yhat = model(x, t)\n",
    "            loss = criterion(yhat, y)\n",
    "            loss.backward()\n",
    "            optimizer.step()\n",
    "            BATCH_LOSS.append(loss.cpu().item())\n",
    "        training_loss = np.mean(BATCH_LOSS)\n",
    "        TRAIN_LOSS.append(training_loss)\n",
    "\n",
    "        # validation\n",
    "        with torch.no_grad(): #disable gradient calculation\n",
    "            # set model to eval mode\n",
    "            model.eval()\n",
    "            val_loss = 0.0\n",
    "            BATCH_VAL_LOSS = []\n",
    "            for x_val, y_val, t_val in val_loader:\n",
    "                ypred = model(x_val, t_val)\n",
    "                loss_val = criterion(ypred, y_val)\n",
    "                BATCH_VAL_LOSS.append(loss_val.cpu())\n",
    "                val_loss += loss_val.cpu().item()\n",
    "\n",
    "        val_loss /= len(val_loader)\n",
    "        validation_loss = np.mean(BATCH_VAL_LOSS)\n",
    "        VAL_LOSS.append(validation_loss)\n",
    "\n",
    "        shift_change.append(model.shift.cpu().detach().numpy())\n",
    "        period_change.append(model.period.cpu().detach().numpy())\n",
    "        on_mid_change.append(model.on_mid.cpu().detach().numpy())\n",
    "        on_end_change.append(model.on_end.cpu().detach().numpy())\n",
    "        end_time = time.time()\n",
    "        time_taken = end_time - start_time\n",
    "        print(f'Epoch {epoch+1}/{epochs}, {time_taken:.4f}s, loss = {training_loss: .5e}, val_loss = {validation_loss:.5e}, shift: {model.shift.cpu().detach().numpy()[0][0]}')\n",
    "    return TRAIN_LOSS, VAL_LOSS, shift_change, period_change, on_mid_change, on_end_change"
   ]
  },
  {
   "cell_type": "code",
   "execution_count": 18,
   "metadata": {},
   "outputs": [],
   "source": [
    "def test_eval(model, criterion, testloader):\n",
    "    with torch.no_grad(): #disable gradient calculation\n",
    "    # set model to et mode\n",
    "        model.eval()\n",
    "\n",
    "        BATCH_t_LOSS = []\n",
    "        for x_t, y_t, t_t in testloader:\n",
    "            ypredt = model(x_t, t_t)\n",
    "            y_actual = y_t\n",
    "            loss_t = criterion(ypredt, y_actual)\n",
    "            # print(loss_t)\n",
    "            # break\n",
    "            BATCH_t_LOSS.append(loss_t.cpu())\n",
    "    testing_loss = np.mean(BATCH_t_LOSS)\n",
    "    return testing_loss"
   ]
  },
  {
   "cell_type": "code",
   "execution_count": 28,
   "metadata": {},
   "outputs": [
    {
     "data": {
      "text/plain": [
       "<bound method Module.parameters of Net(\n",
       "  (PLSTM): PLSTM()\n",
       "  (LSTM): LSTM(26, 8, batch_first=True)\n",
       "  (output): Linear(in_features=8, out_features=2, bias=True)\n",
       ")>"
      ]
     },
     "execution_count": 28,
     "metadata": {},
     "output_type": "execute_result"
    }
   ],
   "source": [
    "torch.manual_seed(123)\n",
    "layers = [4, 24, 8, 2]\n",
    "model = Net(layers)\n",
    "optimizer = optim.Adam(model.parameters(), lr = 0.001) #default lr\n",
    "criterion = nn.MSELoss()\n",
    "model.parameters"
   ]
  },
  {
   "cell_type": "code",
   "execution_count": 29,
   "metadata": {},
   "outputs": [
    {
     "name": "stdout",
     "output_type": "stream",
     "text": [
      "Epoch 1/100, 432.7019s, loss =  1.92821e-01, val_loss = 1.24161e-01, shift: 16.927356719970703\n",
      "Epoch 2/100, 427.4553s, loss =  1.22798e-01, val_loss = 1.21253e-01, shift: 16.931133270263672\n",
      "Epoch 3/100, 421.6727s, loss =  1.20891e-01, val_loss = 1.20292e-01, shift: 16.934659957885742\n",
      "Epoch 4/100, 420.0161s, loss =  1.20600e-01, val_loss = 1.20117e-01, shift: 16.94052505493164\n",
      "Epoch 5/100, 419.1523s, loss =  1.20085e-01, val_loss = 1.19154e-01, shift: 16.974794387817383\n",
      "Epoch 6/100, 419.1256s, loss =  9.29586e-02, val_loss = 7.26976e-02, shift: 16.978412628173828\n",
      "Epoch 7/100, 419.6629s, loss =  5.60678e-02, val_loss = 4.48102e-02, shift: 16.9647216796875\n",
      "Epoch 8/100, 418.7201s, loss =  4.32700e-02, val_loss = 4.23253e-02, shift: 16.96901512145996\n",
      "Epoch 9/100, 418.5853s, loss =  4.19303e-02, val_loss = 4.14894e-02, shift: 16.981149673461914\n",
      "Epoch 10/100, 418.8265s, loss =  4.13705e-02, val_loss = 4.10303e-02, shift: 16.985061645507812\n",
      "Epoch 11/100, 418.5387s, loss =  4.09540e-02, val_loss = 4.07516e-02, shift: 17.007633209228516\n",
      "Epoch 12/100, 419.5969s, loss =  4.06057e-02, val_loss = 4.04122e-02, shift: 17.02570343017578\n",
      "Epoch 13/100, 418.7921s, loss =  4.03019e-02, val_loss = 4.02300e-02, shift: 17.00014305114746\n",
      "Epoch 14/100, 418.9993s, loss =  4.01757e-02, val_loss = 3.99271e-02, shift: 17.01934814453125\n",
      "Epoch 15/100, 418.6264s, loss =  3.99208e-02, val_loss = 3.97993e-02, shift: 17.0202693939209\n",
      "Epoch 16/100, 418.5826s, loss =  3.96892e-02, val_loss = 3.96104e-02, shift: 17.02129554748535\n",
      "Epoch 17/100, 418.0497s, loss =  3.96484e-02, val_loss = 3.94641e-02, shift: 17.016475677490234\n",
      "Epoch 18/100, 418.0649s, loss =  3.95999e-02, val_loss = 3.96250e-02, shift: 17.017160415649414\n",
      "Epoch 19/100, 417.9850s, loss =  3.95301e-02, val_loss = 3.93447e-02, shift: 17.017169952392578\n",
      "Epoch 20/100, 418.6161s, loss =  3.99456e-02, val_loss = 3.95631e-02, shift: 17.017236709594727\n",
      "Epoch 21/100, 417.6542s, loss =  3.94607e-02, val_loss = 3.94990e-02, shift: 17.01777458190918\n",
      "Epoch 22/100, 418.2053s, loss =  3.93337e-02, val_loss = 3.92326e-02, shift: 17.018857955932617\n",
      "Epoch 23/100, 418.9684s, loss =  3.92464e-02, val_loss = 3.91563e-02, shift: 17.021480560302734\n",
      "Epoch 24/100, 418.9876s, loss =  3.90703e-02, val_loss = 3.90600e-02, shift: 17.02808952331543\n",
      "Epoch 25/100, 419.1896s, loss =  3.98645e-02, val_loss = 3.95797e-02, shift: 17.04231071472168\n",
      "Epoch 26/100, 419.6667s, loss =  3.91905e-02, val_loss = 3.90913e-02, shift: 17.039451599121094\n",
      "Epoch 27/100, 419.7858s, loss =  3.90136e-02, val_loss = 3.89874e-02, shift: 17.039875030517578\n",
      "Epoch 28/100, 419.9559s, loss =  3.89814e-02, val_loss = 3.89128e-02, shift: 17.0263729095459\n",
      "Epoch 29/100, 419.6880s, loss =  3.89564e-02, val_loss = 3.88551e-02, shift: 17.028560638427734\n",
      "Epoch 30/100, 422.4140s, loss =  3.87773e-02, val_loss = 3.87523e-02, shift: 17.015417098999023\n",
      "Epoch 31/100, 430.7500s, loss =  3.87385e-02, val_loss = 3.87886e-02, shift: 17.027481079101562\n",
      "Epoch 32/100, 421.1572s, loss =  3.88003e-02, val_loss = 3.89607e-02, shift: 17.021669387817383\n",
      "Epoch 33/100, 419.8572s, loss =  3.86697e-02, val_loss = 3.86702e-02, shift: 17.02167510986328\n",
      "Epoch 34/100, 419.9473s, loss =  3.85174e-02, val_loss = 3.84602e-02, shift: 17.021778106689453\n",
      "Epoch 35/100, 420.2874s, loss =  3.84871e-02, val_loss = 3.83594e-02, shift: 17.022300720214844\n",
      "Epoch 36/100, 420.0834s, loss =  3.87567e-02, val_loss = 3.87740e-02, shift: 17.001428604125977\n",
      "Epoch 37/100, 421.7885s, loss =  3.84583e-02, val_loss = 3.83547e-02, shift: 17.00144386291504\n",
      "Epoch 38/100, 419.7225s, loss =  3.85985e-02, val_loss = 3.81855e-02, shift: 17.001665115356445\n",
      "Epoch 39/100, 420.0196s, loss =  3.89843e-02, val_loss = 3.83523e-02, shift: 17.002124786376953\n",
      "Epoch 40/100, 420.3306s, loss =  3.81620e-02, val_loss = 3.84252e-02, shift: 17.003705978393555\n",
      "Epoch 41/100, 419.7827s, loss =  3.80875e-02, val_loss = 3.79380e-02, shift: 17.00792694091797\n",
      "Epoch 42/100, 421.2287s, loss =  3.78513e-02, val_loss = 3.79719e-02, shift: 17.00187110900879\n",
      "Epoch 43/100, 420.5218s, loss =  3.80330e-02, val_loss = 3.78854e-02, shift: 17.002147674560547\n",
      "Epoch 44/100, 419.7218s, loss =  3.78627e-02, val_loss = 3.76854e-02, shift: 16.996273040771484\n",
      "Epoch 45/100, 420.4188s, loss =  3.76451e-02, val_loss = 3.77976e-02, shift: 16.996952056884766\n",
      "Epoch 46/100, 420.3438s, loss =  3.79710e-02, val_loss = 3.76498e-02, shift: 16.99834442138672\n",
      "Epoch 47/100, 420.1619s, loss =  3.75596e-02, val_loss = 3.75756e-02, shift: 17.001728057861328\n",
      "Epoch 48/100, 419.6149s, loss =  3.78617e-02, val_loss = 3.73113e-02, shift: 16.96964454650879\n",
      "Epoch 49/100, 420.2209s, loss =  3.73413e-02, val_loss = 3.75476e-02, shift: 16.969646453857422\n",
      "Epoch 50/100, 419.6070s, loss =  3.75499e-02, val_loss = 3.74415e-02, shift: 16.969707489013672\n",
      "Epoch 51/100, 420.4630s, loss =  3.73639e-02, val_loss = 3.72666e-02, shift: 16.969974517822266\n",
      "Epoch 52/100, 422.5290s, loss =  3.72483e-02, val_loss = 3.73321e-02, shift: 16.97064971923828\n",
      "Epoch 53/100, 420.3230s, loss =  3.72436e-02, val_loss = 3.74268e-02, shift: 16.972143173217773\n",
      "Epoch 54/100, 419.6601s, loss =  3.72191e-02, val_loss = 3.74741e-02, shift: 16.97542381286621\n",
      "Epoch 55/100, 420.3101s, loss =  3.72555e-02, val_loss = 3.72395e-02, shift: 16.982152938842773\n",
      "Epoch 56/100, 420.7001s, loss =  3.70920e-02, val_loss = 3.72622e-02, shift: 16.996320724487305\n",
      "Epoch 57/100, 420.4391s, loss =  3.71200e-02, val_loss = 3.68221e-02, shift: 16.984800338745117\n",
      "Epoch 58/100, 420.2861s, loss =  3.70564e-02, val_loss = 3.70084e-02, shift: 16.984800338745117\n",
      "Epoch 59/100, 420.0411s, loss =  3.69246e-02, val_loss = 3.76090e-02, shift: 16.984830856323242\n",
      "Epoch 60/100, 420.2591s, loss =  3.67931e-02, val_loss = 3.67325e-02, shift: 16.98504066467285\n",
      "Epoch 61/100, 423.6592s, loss =  3.66711e-02, val_loss = 3.74198e-02, shift: 16.985485076904297\n",
      "Epoch 62/100, 432.7691s, loss =  3.68276e-02, val_loss = 3.67966e-02, shift: 16.986465454101562\n",
      "Epoch 63/100, 420.0722s, loss =  3.68063e-02, val_loss = 3.67670e-02, shift: 16.98863983154297\n",
      "Epoch 64/100, 419.6652s, loss =  3.75070e-02, val_loss = 3.69332e-02, shift: 16.992603302001953\n",
      "Epoch 65/100, 421.0168s, loss =  3.76243e-02, val_loss = 3.95119e-02, shift: 16.98018455505371\n",
      "Epoch 66/100, 419.8134s, loss =  3.74314e-02, val_loss = 3.66595e-02, shift: 16.980192184448242\n",
      "Epoch 67/100, 420.9241s, loss =  3.64899e-02, val_loss = 3.62233e-02, shift: 16.980344772338867\n",
      "Epoch 68/100, 420.0626s, loss =  3.57668e-02, val_loss = 3.33012e-02, shift: 16.980693817138672\n",
      "Epoch 69/100, 420.8651s, loss =  3.04400e-02, val_loss = 2.86088e-02, shift: 16.9814395904541\n",
      "Epoch 70/100, 419.7837s, loss =  2.72946e-02, val_loss = 2.66403e-02, shift: 16.983150482177734\n",
      "Epoch 71/100, 420.1082s, loss =  2.63466e-02, val_loss = 2.62006e-02, shift: 16.986906051635742\n",
      "Epoch 72/100, 420.6797s, loss =  2.59892e-02, val_loss = 2.53867e-02, shift: 16.994869232177734\n",
      "Epoch 73/100, 420.3611s, loss =  2.53879e-02, val_loss = 2.52513e-02, shift: 17.008798599243164\n",
      "Epoch 74/100, 420.4115s, loss =  2.59237e-02, val_loss = 2.51683e-02, shift: 16.991247177124023\n",
      "Epoch 75/100, 420.6929s, loss =  2.55922e-02, val_loss = 2.54528e-02, shift: 16.992000579833984\n",
      "Epoch 76/100, 421.2253s, loss =  2.65549e-02, val_loss = 2.63301e-02, shift: 16.993608474731445\n",
      "Epoch 77/100, 420.3057s, loss =  2.54221e-02, val_loss = 2.48908e-02, shift: 16.997337341308594\n",
      "Epoch 78/100, 420.8490s, loss =  2.56222e-02, val_loss = 2.58627e-02, shift: 17.039749145507812\n",
      "Epoch 79/100, 420.4593s, loss =  2.51178e-02, val_loss = 2.60238e-02, shift: 17.0400447845459\n",
      "Epoch 80/100, 420.4296s, loss =  2.50002e-02, val_loss = 2.49557e-02, shift: 17.04048728942871\n",
      "Epoch 81/100, 434.4647s, loss =  2.48073e-02, val_loss = 2.55399e-02, shift: 17.041574478149414\n",
      "Epoch 82/100, 420.8942s, loss =  2.50239e-02, val_loss = 2.44778e-02, shift: 17.043787002563477\n",
      "Epoch 83/100, 420.1215s, loss =  2.63007e-02, val_loss = 2.52717e-02, shift: 17.05956268310547\n",
      "Epoch 84/100, 421.1887s, loss =  2.46843e-02, val_loss = 2.50822e-02, shift: 17.059856414794922\n",
      "Epoch 85/100, 420.1210s, loss =  2.46258e-02, val_loss = 2.53369e-02, shift: 17.060426712036133\n",
      "Epoch 86/100, 419.8482s, loss =  2.45679e-02, val_loss = 2.41634e-02, shift: 17.061853408813477\n",
      "Epoch 87/100, 420.5614s, loss =  2.43124e-02, val_loss = 2.55757e-02, shift: 17.06483268737793\n",
      "Epoch 88/100, 422.1096s, loss =  2.83895e-02, val_loss = 3.99825e-02, shift: 17.054391860961914\n",
      "Epoch 89/100, 420.3528s, loss =  3.01131e-02, val_loss = 2.85177e-02, shift: 17.05498504638672\n",
      "Epoch 90/100, 420.5260s, loss =  2.78101e-02, val_loss = 2.66375e-02, shift: 17.056318283081055\n",
      "Epoch 91/100, 433.1290s, loss =  2.57738e-02, val_loss = 2.45260e-02, shift: 17.05563735961914\n",
      "Epoch 92/100, 420.2323s, loss =  2.51460e-02, val_loss = 2.64527e-02, shift: 17.055912017822266\n",
      "Epoch 93/100, 421.2735s, loss =  2.48282e-02, val_loss = 2.52536e-02, shift: 17.051374435424805\n",
      "Epoch 94/100, 421.5006s, loss =  2.44973e-02, val_loss = 2.44156e-02, shift: 17.05318260192871\n",
      "Epoch 95/100, 420.3098s, loss =  2.44521e-02, val_loss = 2.38544e-02, shift: 17.05744743347168\n",
      "Epoch 96/100, 421.0539s, loss =  2.39925e-02, val_loss = 2.42728e-02, shift: 17.065351486206055\n",
      "Epoch 97/100, 420.3680s, loss =  2.45204e-02, val_loss = 2.35728e-02, shift: 17.047517776489258\n",
      "Epoch 98/100, 420.7601s, loss =  2.38615e-02, val_loss = 2.45465e-02, shift: 17.047616958618164\n",
      "Epoch 99/100, 421.0373s, loss =  2.36954e-02, val_loss = 2.38817e-02, shift: 17.047832489013672\n",
      "Epoch 100/100, 420.0674s, loss =  2.36304e-02, val_loss = 2.43632e-02, shift: 17.048397064208984\n"
     ]
    }
   ],
   "source": [
    "TRAIN_LOSS, VAL_LOSS, shift_change, period_change, on_mid_change, on_end_change= train(model=model, epochs=100, optimizer=optimizer, criterion=criterion, trainloader=train_loader, val_loader=val_loader)"
   ]
  },
  {
   "cell_type": "code",
   "execution_count": 30,
   "metadata": {},
   "outputs": [
    {
     "name": "stdout",
     "output_type": "stream",
     "text": [
      "0.024437044\n"
     ]
    }
   ],
   "source": [
    "print(test_eval(model, criterion=criterion, testloader=test_loader))"
   ]
  },
  {
   "cell_type": "code",
   "execution_count": 31,
   "metadata": {},
   "outputs": [
    {
     "data": {
      "image/png": "[encoded data removed]",
      "text/plain": [
       "<Figure size 640x480 with 1 Axes>"
      ]
     },
     "metadata": {},
     "output_type": "display_data"
    }
   ],
   "source": [
    "length = len(TRAIN_LOSS)\n",
    "epochs = range(1, length+1)\n",
    "plt.plot(epochs, TRAIN_LOSS, 'r', label='Training loss')\n",
    "plt.plot(epochs, VAL_LOSS, 'b', label='Validation loss')\n",
    "plt.title('Training and validation loss')\n",
    "plt.xlabel(\"epoch\")\n",
    "plt.ylabel(\"loss\")\n",
    "plt.legend()\n",
    "plt.show()"
   ]
  },
  {
   "cell_type": "code",
   "execution_count": 38,
   "metadata": {},
   "outputs": [],
   "source": [
    "input_mean = np.array([-2.13124010e-03, -6.78121852e+01, -5.90934756e-04,  1.30549989e+02,\n",
    " -8.84170431e-03,  6.76110004e-01,  5.05000000e+01])\n",
    "input_std = np.array([2.85780447e+00, 4.08214102e+05, 2.85777554e+00, 4.08177358e+05,\n",
    " 8.49529132e-01, 4.30228811e+01, 2.88660700e+01])\n",
    "\n",
    "output_mean = np.array([-0.05992626,  3.19450381])\n",
    "output_std = np.array([0.87320381, 57.35956821])"
   ]
  },
  {
   "cell_type": "code",
   "execution_count": 40,
   "metadata": {},
   "outputs": [],
   "source": [
    "save_path = 'PLSTM.pth'\n",
    "torch.save(model.state_dict(), save_path)"
   ]
  }
 ],
 "metadata": {
  "kernelspec": {
   "display_name": "Python 3",
   "language": "python",
   "name": "python3"
  },
  "language_info": {
   "codemirror_mode": {
    "name": "ipython",
    "version": 3
   },
   "file_extension": ".py",
   "mimetype": "text/x-python",
   "name": "python",
   "nbconvert_exporter": "python",
   "pygments_lexer": "ipython3",
   "version": "3.12.4"
  }
 },
 "nbformat": 4,
 "nbformat_minor": 2
}
